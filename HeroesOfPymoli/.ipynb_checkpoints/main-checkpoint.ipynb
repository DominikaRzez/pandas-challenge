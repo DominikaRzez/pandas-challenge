{
 "cells": [
  {
   "cell_type": "code",
   "execution_count": null,
   "id": "5b4df52e",
   "metadata": {},
   "outputs": [],
   "source": [
    "import pandas as pd"
   ]
  },
  {
   "cell_type": "code",
   "execution_count": null,
   "id": "2c0fb7f6",
   "metadata": {},
   "outputs": [],
   "source": [
    "#Defining the file to load\n",
    "path=\"../Resources/purchase_data.csv\"\n",
    "\n",
    "#opening the data and displaying first 5 rows of the table\n",
    "purchase_data_df=pd.read_csv(path)\n",
    "purchase_data_df.head()"
   ]
  },
  {
   "cell_type": "code",
   "execution_count": null,
   "id": "a15c9031",
   "metadata": {},
   "outputs": [],
   "source": [
    "#finding the number of unique SN to get the number of players\n",
    "players=len(purchase_data_df[\"SN\"].unique())\n",
    "#displaying total number of players as data frame\n",
    "total_players_df=pd.DataFrame({\"Total Players\":[players]})\n",
    "total_players_df"
   ]
  },
  {
   "cell_type": "code",
   "execution_count": null,
   "id": "31da7743",
   "metadata": {},
   "outputs": [],
   "source": [
    "#running basic calculations \n",
    "items=purchase_data_df[\"Item Name\"].nunique()\n",
    "average_price=purchase_data_df[\"Price\"].mean()\n",
    "purchases_number = len(purchase_data_df[\"Purchase ID\"])\n",
    "revenue=purchase_data_df[\"Price\"].sum()\n",
    "#creating a summary table to hold the results\n",
    "purchase_analysis_df=pd.DataFrame({\"Number of unique items\":[items],\"Average Price\":[average_price],\"Number of Purchases\":[purchases_number],\n",
    "                    \"Total Revenue\":[revenue]})\n",
    "#formatting the data \n",
    "purchase_analysis_df[\"Average Price\"]=purchase_analysis_df[\"Average Price\"].map(\"${:.2f}\".format)\n",
    "purchase_analysis_df[\"Total Revenue\"]=purchase_analysis_df[\"Total Revenue\"].map(\"${:,}\".format)\n",
    "purchase_analysis_df"
   ]
  },
  {
   "cell_type": "code",
   "execution_count": null,
   "id": "99c6562c",
   "metadata": {},
   "outputs": [],
   "source": [
    "#grouping data frame by gender and counting unique values\n",
    "gender=purchase_data_df.groupby('Gender').nunique()\n",
    "#only selecting SN column to get count of male/female players\n",
    "gender_count=gender[\"SN\"]\n",
    "#calculating the percentage\n",
    "percentage=[]\n",
    "index = [0,1,2]\n",
    "for x in index:\n",
    "    gender_pct=(gender_count[x]/players)*100\n",
    "    percentage.append(gender_pct)\n",
    "#creating new data frame to display demographics and formatting data\n",
    "demographics_df=pd.DataFrame({\"Total Count\":gender_count,\n",
    "                              \"Percentage of Players\":percentage})\n",
    "demographics_df[\"Percentage of Players\"]=demographics_df[\"Percentage of Players\"].map(\"{:.2f}%\".format)\n",
    "demographics_df"
   ]
  },
  {
   "cell_type": "code",
   "execution_count": null,
   "id": "f72a84af",
   "metadata": {},
   "outputs": [],
   "source": [
    "#calculating the purchase count and total purchase value by using groupby\n",
    "purchase_count =purchase_data_df.groupby('Gender')[\"Purchase ID\"].nunique()\n",
    "total_purchase=purchase_data_df.groupby('Gender')[\"Price\"].sum()\n",
    "#calculating average purchase price for each gender\n",
    "avg_price_gender=[]\n",
    "index = [0,1,2]\n",
    "for x in index:\n",
    "    price_gender=(total_purchase[x]/purchase_count[x])\n",
    "    avg_price_gender.append(price_gender)\n",
    "#calculating average purchase price per person\n",
    "price_person=[]\n",
    "for n in index:\n",
    "    price_person_gender=(purchase_count[n]/gender_count[n])*(avg_price_gender[n])\n",
    "    price_person.append(price_person_gender)"
   ]
  },
  {
   "cell_type": "code",
   "execution_count": null,
   "id": "34551ef6",
   "metadata": {},
   "outputs": [],
   "source": [
    "#creating data frame to display purchase analysis\n",
    "purchase_by_gender_df=pd.DataFrame({\"Purchase Count\":purchase_count, \n",
    "                                    \"Average Purchase Price\":avg_price_gender,\n",
    "                                    \"Total Purchase Value\":total_purchase,\n",
    "                                   \"Average Total Purchase per Person\":price_person})\n",
    "purchase_by_gender_df[\"Total Purchase Value\"]=purchase_by_gender_df[\"Total Purchase Value\"].map(\"${:,.2f}\".format)\n",
    "purchase_by_gender_df[\"Average Purchase Price\"]=purchase_by_gender_df[\"Average Purchase Price\"].map(\"${:.2f}\".format)\n",
    "purchase_by_gender_df[\"Average Total Purchase per Person\"]=purchase_by_gender_df[\"Average Total Purchase per Person\"].map(\"${:.2f}\".format)\n",
    "purchase_by_gender_df"
   ]
  },
  {
   "cell_type": "code",
   "execution_count": null,
   "id": "50247a8f",
   "metadata": {},
   "outputs": [],
   "source": [
    "#Creating the bins in which age values will be placed\n",
    "bins = [0, 9, 14, 19, 24,29,34,39,50]\n",
    "#creating labels for the bins\n",
    "group_labels = [\"<10\", \"10-14\", \"15-19\", \"20-24\",\"25-29\",\"30-34\",\"35-39\",\"40+\"]\n",
    "#slicing the data and placing it in the bins\n",
    "pd.cut(purchase_data_df[\"Age\"],bins, labels=group_labels).head()"
   ]
  },
  {
   "cell_type": "code",
   "execution_count": null,
   "id": "159b6075",
   "metadata": {},
   "outputs": [],
   "source": [
    "#Adding data series into new column into the main DataFrame\n",
    "purchase_data_df[\"Age Range\"]=pd.cut(purchase_data_df[\"Age\"],bins, labels=group_labels)\n",
    "#creating groupby object based one the age range\n",
    "age_data=purchase_data_df.groupby(\"Age Range\")\n",
    "#finding number of players in each age range\n",
    "age_count =age_data[\"SN\"].nunique()\n",
    "age_count\n",
    "percentage=[]\n",
    "#looping through age column and calculating percentage\n",
    "for number in age_count:\n",
    "    age_percentage=(number/players)*100\n",
    "    percentage.append(age_percentage)"
   ]
  },
  {
   "cell_type": "code",
   "execution_count": null,
   "id": "0b20d6ea",
   "metadata": {},
   "outputs": [],
   "source": [
    "#creating data frame to display the results\n",
    "#mapping the data to round the percentage column\n",
    "age_demographics_df=pd.DataFrame({\"Total Count\":age_count, \"Percentage of Players\": percentage})\n",
    "age_demographics_df[\"Percentage of Players\"]=age_demographics_df[\"Percentage of Players\"].map(\"{:.2f}%\".format)\n",
    "age_demographics_df"
   ]
  },
  {
   "cell_type": "code",
   "execution_count": null,
   "id": "58db6dfb",
   "metadata": {},
   "outputs": [],
   "source": [
    "#Utilizing age_data which already binned purchase data\n",
    "#Calulcating purchase count, avg price, avg purchase per person and total purchase value\n",
    "purchase_count=age_data[\"Purchase ID\"].count()\n",
    "avg_price_age=age_data[\"Price\"].mean()\n",
    "total_value_age=age_data[\"Price\"].sum()\n",
    "avg_per_person_age=[]\n",
    "indexes=[0,1,2,3,4,5,6,7]\n",
    "for x in indexes:\n",
    "    per_person=(total_value_age[x]/age_count[x])\n",
    "    avg_per_person_age.append(per_person)"
   ]
  },
  {
   "cell_type": "code",
   "execution_count": null,
   "id": "a8391d13",
   "metadata": {},
   "outputs": [],
   "source": [
    "#Creating new dataframe to display above calculations\n",
    "analysis_age = pd.DataFrame({\"Purchase Count\":purchase_count, \"Average Purchase Price\":avg_price_age,\n",
    "                             \"Total Purchase Value\":total_value_age,\"Avg Total Purchase per Person\": avg_per_person_age})\n",
    "analysis_age[\"Average Purchase Price\"]=analysis_age[\"Average Purchase Price\"].map(\"${:.2f}\".format)\n",
    "analysis_age[\"Total Purchase Value\"]=analysis_age[\"Total Purchase Value\"].map(\"${:.2f}\".format)\n",
    "analysis_age[\"Avg Total Purchase per Person\"]=analysis_age[\"Avg Total Purchase per Person\"].map(\"${:.2f}\".format)\n",
    "analysis_age"
   ]
  },
  {
   "cell_type": "code",
   "execution_count": null,
   "id": "4bd790a9",
   "metadata": {},
   "outputs": [],
   "source": [
    "#grouping data by SN to find 5 players who spent the most\n",
    "top_purchase=purchase_data_df.groupby(\"SN\")[\"Price\"].sum().nlargest(5)\n",
    "spenders=list(top_purchase.index)\n",
    "#slicing data to display values only for top spenders\n",
    "spenders_data=purchase_data_df.loc[(purchase_data_df[\"SN\"]==spenders[0])| (purchase_data_df[\"SN\"]==spenders[1])|\n",
    "                            (purchase_data_df[\"SN\"]==spenders[2])| (purchase_data_df[\"SN\"]==spenders[3])|\n",
    "                            (purchase_data_df[\"SN\"]==spenders[4]),:]\n",
    "#calculating purchase count\n",
    "purchase_count=spenders_data.groupby(\"SN\")[\"Purchase ID\"].count()\n",
    "spenders_summary = pd.DataFrame({\"Purchase Count\":purchase_count, \"Total Purchase Value\":top_purchase})\n",
    "#looping through rows to calculate average purchase price\n",
    "for rows in spenders_summary:\n",
    "    avg_price_spenders=(spenders_summary[\"Total Purchase Value\"]/spenders_summary[\"Purchase Count\"])"
   ]
  },
  {
   "cell_type": "code",
   "execution_count": null,
   "id": "80e53bd9",
   "metadata": {},
   "outputs": [],
   "source": [
    "#creating and mapping data frame to display top spenders analysis\n",
    "spenders_summary[\"Average Purchase Price\"]=avg_price_spenders\n",
    "spenders_summary[\"Average Purchase Price\"]=spenders_summary[\"Average Purchase Price\"].map(\"${:.2f}\".format)\n",
    "spenders_summary[\"Total Purchase Value\"]=spenders_summary[\"Total Purchase Value\"].map(\"${:.2f}\".format)\n",
    "spenders_summary=spenders_summary.sort_values(by=[\"Total Purchase Value\"],ascending=False)\n",
    "spenders_summary=spenders_summary[[\"Purchase Count\",\"Average Purchase Price\",\"Total Purchase Value\"]]\n",
    "spenders_summary"
   ]
  },
  {
   "cell_type": "code",
   "execution_count": null,
   "id": "4b49adf1",
   "metadata": {},
   "outputs": [],
   "source": [
    "#grouping data by item id to find 5 most popular items\n",
    "top_item=purchase_data_df.groupby([\"Item ID\"])[\"Purchase ID\"].count().nlargest(5)\n",
    "items_index=list(top_item.index)\n",
    "#slicing data to display data only for top items\n",
    "items_data=purchase_data_df.loc[(purchase_data_df[\"Item ID\"]==items_index[0])|(purchase_data_df[\"Item ID\"]==items_index[1])|\n",
    "                                (purchase_data_df[\"Item ID\"]==items_index[2])|(purchase_data_df[\"Item ID\"]==items_index[3])|\n",
    "                                (purchase_data_df[\"Item ID\"]==items_index[4]),:]\n",
    "#grouping data by item id and item name to get multindex and performing calculations\n",
    "best_items=items_data.groupby([\"Item ID\",\"Item Name\"])[\"Purchase ID\"].count()\n",
    "purchase_value=items_data.groupby([\"Item ID\",\"Item Name\"])[\"Price\"].sum()\n",
    "popular_items=pd.DataFrame({\"Total Purchase Value\":purchase_value,\n",
    "                           \"Purchase Count\":best_items})\n",
    "for rows in popular_items:\n",
    "    item_price=(popular_items[\"Total Purchase Value\"]/popular_items[\"Purchase Count\"])"
   ]
  },
  {
   "cell_type": "code",
   "execution_count": null,
   "id": "6c1394bb",
   "metadata": {},
   "outputs": [],
   "source": [
    "#creating and mapping data frame to display top spenders analysis\n",
    "popular_items[\"Item Price\"]= item_price\n",
    "popular_items[\"Item Price\"]=popular_items[\"Item Price\"].map(\"${:.2f}\".format)\n",
    "popular_items[\"Total Purchase Value\"]=popular_items[\"Total Purchase Value\"].map(\"${:.2f}\".format)\n",
    "popular_items=popular_items[[\"Purchase Count\",\"Item Price\",\"Total Purchase Value\"]]\n",
    "popular_items=popular_items.sort_values(by=[\"Purchase Count\"],ascending=False)\n",
    "popular_items"
   ]
  },
  {
   "cell_type": "code",
   "execution_count": null,
   "id": "d49a04a5",
   "metadata": {},
   "outputs": [],
   "source": [
    "#grouping data by item id to find 5 most profitable items\n",
    "highest_price=purchase_data_df.groupby([\"Item ID\"])[\"Price\"].sum().nlargest(5)\n",
    "profitable_items_index=list(highest_price.index)\n",
    "#slicing data to display data only for top items\n",
    "top_items_data=purchase_data_df.loc[(purchase_data_df[\"Item ID\"]==profitable_items_index[0])|\n",
    "                                    (purchase_data_df[\"Item ID\"]==profitable_items_index[1])|\n",
    "                                    (purchase_data_df[\"Item ID\"]==profitable_items_index[2])|\n",
    "                                    (purchase_data_df[\"Item ID\"]==profitable_items_index[3])|\n",
    "                                    (purchase_data_df[\"Item ID\"]==profitable_items_index[4]),:]\n",
    "#grouping data by item id and item name to get multindex and performing calculations\n",
    "items_count=top_items_data.groupby([\"Item ID\",\"Item Name\"])[\"Purchase ID\"].count()\n",
    "total_values=top_items_data.groupby([\"Item ID\",\"Item Name\"])[\"Price\"].sum()\n",
    "profitable_items_data=pd.DataFrame({\"Total Purchase Value\":total_values,\n",
    "                           \"Purchase Count\":items_count})\n",
    "for rows in profitable_items_data:\n",
    "    item_price=(profitable_items_data[\"Total Purchase Value\"]/profitable_items_data[\"Purchase Count\"])"
   ]
  },
  {
   "cell_type": "code",
   "execution_count": null,
   "id": "daef204d",
   "metadata": {},
   "outputs": [],
   "source": [
    "#creating and mapping data frame to display most profitable items analysis\n",
    "profitable_items_data[\"Item Price\"]= item_price\n",
    "profitable_items_data[\"Item Price\"]=profitable_items_data[\"Item Price\"].map(\"${:.2f}\".format)\n",
    "profitable_items_data[\"Total Purchase Value\"]=profitable_items_data[\"Total Purchase Value\"].map(\"${:.2f}\".format)\n",
    "profitable_items_data=profitable_items_data[[\"Purchase Count\",\"Item Price\",\"Total Purchase Value\"]]\n",
    "profitable_items_data=profitable_items_data.sort_values(by=[\"Total Purchase Value\"],ascending=False)\n",
    "profitable_items_data"
   ]
  }
 ],
 "metadata": {
  "kernelspec": {
   "display_name": "Python 3",
   "language": "python",
   "name": "python3"
  },
  "language_info": {
   "codemirror_mode": {
    "name": "ipython",
    "version": 3
   },
   "file_extension": ".py",
   "mimetype": "text/x-python",
   "name": "python",
   "nbconvert_exporter": "python",
   "pygments_lexer": "ipython3",
   "version": "3.8.8"
  }
 },
 "nbformat": 4,
 "nbformat_minor": 5
}
