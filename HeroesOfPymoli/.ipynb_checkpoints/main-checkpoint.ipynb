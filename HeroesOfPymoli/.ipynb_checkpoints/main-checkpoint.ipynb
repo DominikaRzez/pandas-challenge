{
 "cells": [
  {
   "cell_type": "code",
   "execution_count": null,
   "id": "5b4df52e",
   "metadata": {},
   "outputs": [],
   "source": [
    "import pandas as pd"
   ]
  },
  {
   "cell_type": "code",
   "execution_count": null,
   "id": "2c0fb7f6",
   "metadata": {},
   "outputs": [],
   "source": [
    "#Defining the file to load\n",
    "path=\"../Resources/purchase_data.csv\"\n",
    "\n",
    "#opening the data and displaying first 5 rows of the table\n",
    "purchase_data_df=pd.read_csv(path)\n",
    "purchase_data_df.head()"
   ]
  },
  {
   "cell_type": "code",
   "execution_count": null,
   "id": "a15c9031",
   "metadata": {},
   "outputs": [],
   "source": [
    "#finding the number of unique SN to get the number of players\n",
    "players=purchase_data_df[\"SN\"].nunique()\n",
    "#displaying total number of players as data frame\n",
    "total_players_df=pd.DataFrame({\"Total Players\":[players]})\n",
    "total_players_df"
   ]
  },
  {
   "cell_type": "code",
   "execution_count": null,
   "id": "33a58917",
   "metadata": {},
   "outputs": [],
   "source": [
    "players=len(purchase_data_df[\"SN\"].value_counts())\n",
    "total_players_df=pd.DataFrame({\"Total Players\":[players]})\n",
    "total_players_df"
   ]
  },
  {
   "cell_type": "code",
   "execution_count": null,
   "id": "31da7743",
   "metadata": {},
   "outputs": [],
   "source": [
    "#running basic calculations \n",
    "items=purchase_data_df[\"Item Name\"].nunique()\n",
    "average_price=purchase_data_df[\"Price\"].mean()\n",
    "purchases_number = len(purchase_data_df[\"Purchase ID\"])\n",
    "revenue=purchase_data_df[\"Price\"].sum()\n",
    "#creating a summary table to hold the results\n",
    "purchase_analysis_df=pd.DataFrame({\"Number of unique items\":[items],\"Average Price\":[average_price],\"Number of Purchases\":[purchases_number],\n",
    "                    \"Total Revenue\":[revenue]})\n",
    "#formatting the data \n",
    "purchase_analysis_df[\"Average Price\"]=purchase_analysis_df[\"Average Price\"].map(\"${:.2f}\".format)\n",
    "purchase_analysis_df[\"Total Revenue\"]=purchase_analysis_df[\"Total Revenue\"].map(\"${:,}\".format)\n",
    "purchase_analysis_df"
   ]
  }
 ],
 "metadata": {
  "kernelspec": {
   "display_name": "Python 3",
   "language": "python",
   "name": "python3"
  },
  "language_info": {
   "codemirror_mode": {
    "name": "ipython",
    "version": 3
   },
   "file_extension": ".py",
   "mimetype": "text/x-python",
   "name": "python",
   "nbconvert_exporter": "python",
   "pygments_lexer": "ipython3",
   "version": "3.8.8"
  }
 },
 "nbformat": 4,
 "nbformat_minor": 5
}
